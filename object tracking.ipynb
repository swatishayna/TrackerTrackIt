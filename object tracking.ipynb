{
 "cells": [
  {
   "cell_type": "code",
   "execution_count": 3,
   "id": "88e95f4f",
   "metadata": {},
   "outputs": [],
   "source": [
    "#Load the dataset.\n",
    "video_path = \"D:\\download\\car.mp4\"\n",
    "cap = cv2.VideoCapture(video_path)\n",
    "\n",
    "if not cap.isOpened():\n",
    "    print(\"Error: Could not open video.\")"
   ]
  },
  {
   "cell_type": "code",
   "execution_count": 2,
   "id": "59663150",
   "metadata": {},
   "outputs": [],
   "source": [
    "#importing all liobraries\n",
    "import cv2\n",
    "import os"
   ]
  },
  {
   "cell_type": "code",
   "execution_count": 5,
   "id": "8ecf0340",
   "metadata": {},
   "outputs": [
    {
     "name": "stdout",
     "output_type": "stream",
     "text": [
      "Extracted 421 frames.\n"
     ]
    }
   ],
   "source": [
    "\n",
    "\n",
    "output_folder = \"D:\\\\download\\\\vehicle frames\"\n",
    "os.makedirs(output_folder, exist_ok=True)\n",
    "\n",
    "frame_count = 0\n",
    "while True:\n",
    "    ret, frame = cap.read()\n",
    "    if not ret:\n",
    "        break\n",
    "    frame_filename = os.path.join(output_folder, f\"frame_{frame_count:05d}.jpg\")\n",
    "    cv2.imwrite(frame_filename, frame)\n",
    "    frame_count += 1\n",
    "\n",
    "cap.release()\n",
    "print(f\"Extracted {frame_count} frames.\")\n"
   ]
  },
  {
   "cell_type": "code",
   "execution_count": 3,
   "id": "77fa3372",
   "metadata": {},
   "outputs": [
    {
     "name": "stdout",
     "output_type": "stream",
     "text": [
      "Processed and saved 421 frames.\n"
     ]
    }
   ],
   "source": [
    "# Path to your video file\n",
    "video_path = r\"D:\\\\download\\\\car.mp4\"\n",
    "output_folder = \"D:\\\\download\\\\vehicle frames\"\n",
    "os.makedirs(output_folder, exist_ok=True)\n",
    "\n",
    "# Create a VideoCapture object\n",
    "cap = cv2.VideoCapture(video_path)\n",
    "\n",
    "# Check if the video file opened successfully\n",
    "if not cap.isOpened():\n",
    "    print(\"Error: Could not open video.\")\n",
    "    exit()\n",
    "\n",
    "# Define the preprocessing functions\n",
    "def resize_frame(frame, size=(416, 416)):\n",
    "    return cv2.resize(frame, size)\n",
    "\n",
    "def normalize_frame(frame):\n",
    "    return frame / 255.0\n",
    "\n",
    "def convert_color_space(frame, color_space=cv2.COLOR_BGR2GRAY):\n",
    "    return cv2.cvtColor(frame, color_space)\n",
    "\n",
    "def augment_frame(frame):\n",
    "    flipped_frame = cv2.flip(frame, 1)\n",
    "    return flipped_frame\n",
    "\n",
    "def smooth_frame(frame, kernel_size=(5, 5)):\n",
    "    return cv2.GaussianBlur(frame, kernel_size, 0)\n",
    "\n",
    "def edge_detection(frame):\n",
    "    edges = cv2.Canny(frame, 100, 200)\n",
    "    return edges\n",
    "\n",
    "def histogram_equalization(frame):\n",
    "    return cv2.equalizeHist(frame)\n",
    "\n",
    "def background_subtraction(frame, background_subtractor):\n",
    "    fgmask = background_subtractor.apply(frame)\n",
    "    return fgmask\n",
    "\n",
    "# Initialize background subtractor\n",
    "background_subtractor = cv2.createBackgroundSubtractorMOG2()\n",
    "\n",
    "frame_count = 0\n",
    "prev_gray = None\n",
    "\n",
    "while True:\n",
    "    # Capture frame-by-frame\n",
    "    ret, frame = cap.read()\n",
    "\n",
    "    # If the frame was not retrieved successfully, break the loop\n",
    "    if not ret:\n",
    "        break\n",
    "\n",
    "   # Apply preprocessing steps\n",
    "    resized_frame = resize_frame(frame)\n",
    "    normalized_frame = normalize_frame(resized_frame)\n",
    "    normalized_frame_uint8 = (normalized_frame * 255).astype('uint8')\n",
    "    gray_frame = convert_color_space(normalized_frame_uint8, cv2.COLOR_BGR2GRAY)\n",
    "    augmented_frame = augment_frame(gray_frame)\n",
    "    smoothed_frame = smooth_frame(augmented_frame)\n",
    "    edges = edge_detection(smoothed_frame)\n",
    "    equalized_frame = histogram_equalization(edges)\n",
    "    fgmask = background_subtraction(equalized_frame, background_subtractor)\n",
    "    \n",
    "    \n",
    "    # Save the processed frame\n",
    "    frame_filename = os.path.join(output_folder, f\"frame_{frame_count:05d}.jpg\")\n",
    "    cv2.imwrite(frame_filename, augmented_frame)\n",
    "    frame_count += 1\n",
    "\n",
    "    # Optionally display the processed frame\n",
    "    cv2.imshow('Processed Frame', augmented_frame)\n",
    "    if cv2.waitKey(1) & 0xFF == ord('q'):\n",
    "        break\n",
    "\n",
    "# Release the VideoCapture object\n",
    "cap.release()\n",
    "cv2.destroyAllWindows()\n",
    "\n",
    "print(f\"Processed and saved {frame_count} frames.\")\n"
   ]
  },
  {
   "cell_type": "code",
   "execution_count": null,
   "id": "5fd7bb17",
   "metadata": {},
   "outputs": [],
   "source": []
  }
 ],
 "metadata": {
  "kernelspec": {
   "display_name": "Python 3 (ipykernel)",
   "language": "python",
   "name": "python3"
  },
  "language_info": {
   "codemirror_mode": {
    "name": "ipython",
    "version": 3
   },
   "file_extension": ".py",
   "mimetype": "text/x-python",
   "name": "python",
   "nbconvert_exporter": "python",
   "pygments_lexer": "ipython3",
   "version": "3.11.5"
  }
 },
 "nbformat": 4,
 "nbformat_minor": 5
}
